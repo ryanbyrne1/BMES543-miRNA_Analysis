{
 "cells": [
  {
   "cell_type": "markdown",
   "id": "4930b672",
   "metadata": {},
   "source": [
    "# miRNA analysis\n",
    "Ryan Byrne"
   ]
  },
  {
   "cell_type": "code",
   "execution_count": 296,
   "id": "3beb2c34",
   "metadata": {},
   "outputs": [],
   "source": [
    "import pandas as pd\n",
    "import numpy as np\n",
    "import math\n",
    "from scipy import stats\n",
    "from statsmodels.stats import multitest\n",
    "import sys,os; sys.path.append(os.environ['BMESAHMETDIR']); import bmes\n",
    "\n",
    "import sys,os; sys.path.append(os.environ['BMESAHMETDIR']+'/qsb'); from bmes_targetscandb_mir2target import *"
   ]
  },
  {
   "cell_type": "markdown",
   "id": "fc45a29a",
   "metadata": {},
   "source": [
    "# Filter Excel File"
   ]
  },
  {
   "cell_type": "code",
   "execution_count": 298,
   "id": "c10d2a18",
   "metadata": {},
   "outputs": [],
   "source": [
    "#Read File into dataframe\n",
    "Unfilter_File = pd.read_excel('CRPS_unfiltered.xlsx', index_col=None, header=0)\n",
    "\n",
    "#Convert dataframe to array\n",
    "Unfilter_Mat = np.array(Unfilter_File)\n",
    "\n",
    "#Get size of array\n",
    "numRows = Unfilter_Mat.shape[0]\n",
    "numCols = Unfilter_Mat.shape[1]\n",
    "\n",
    "#Define infinity\n",
    "inf = float('inf')\n",
    "\n",
    "#Iterate through each row in array\n",
    "for i in range(numRows):\n",
    "    \n",
    "    #Store number of infinity in row and non infinity numbers\n",
    "    numInf = 0\n",
    "    nonInf = []\n",
    "    \n",
    "    #If row index contains infinity increase inf counter\n",
    "    for j in range(1, numCols ):\n",
    "        if (Unfilter_Mat[i][j] == inf):\n",
    "            numInf += 1\n",
    "            \n",
    "    #If row index contains non infinity store in nonInf array\n",
    "        else:\n",
    "            nonInf.append(Unfilter_Mat[i][j])\n",
    "            \n",
    "    #If 4 or more entries contain a non infinity value replace every infinity value with the mean of non infinity values\n",
    "    if (numInf < 58 and numInf > 0):\n",
    "        average_Exp = np.mean(nonInf)\n",
    "        line = Unfilter_File.iloc[i, 1:numCols]\n",
    "        line.loc[line == inf] = average_Exp\n",
    "        Unfilter_File.iloc[i, 1:numCols] = line\n",
    "        \n",
    "    #If the row contains 3 or fewer enteries set control 1 to be infinity to ensure it is removed\n",
    "    elif (numInf >= 58):\n",
    "        Unfilter_File.iloc[i, 1] = inf\n",
    "        \n",
    "#Remove rows containing infinity and store in filtered dataframe      \n",
    "Filter_File = Unfilter_File.loc[Unfilter_File[\"control\"] != inf]\n",
    "\n",
    "#Write data to excel file\n",
    "Filter_File.to_excel(\"filtered_Excel_data.xlsx\" , index=False)  "
   ]
  },
  {
   "cell_type": "markdown",
   "id": "7310156d",
   "metadata": {},
   "source": [
    "# Print the names and fold changes of the top-10 most changing miRNAs (either up or down regulation, i.e., order by descending absolute fold change)"
   ]
  },
  {
   "cell_type": "code",
   "execution_count": 299,
   "id": "ee57fe00",
   "metadata": {},
   "outputs": [
    {
     "name": "stdout",
     "output_type": "stream",
     "text": [
      "            miRNA  Fold Change\n",
      "502   hsa-miR-939     5.667763\n",
      "402   hsa-miR-25#     5.175854\n",
      "84    hsa-miR-223     4.457306\n",
      "423   hsa-miR-17#     4.042570\n",
      "61    hsa-miR-29b     3.721810\n",
      "275    hsa-let-7c     3.271369\n",
      "193  hsa-miR-517c     3.266567\n",
      "21    hsa-miR-18b     3.195216\n",
      "161    hsa-let-7b     3.156249\n",
      "6    hsa-miR-133b     3.140113\n"
     ]
    }
   ],
   "source": [
    "#Read filtered excel file\n",
    "CRPS_df = pd.read_excel('filtered_Excel_data.xlsx', index_col=None, header=0)\n",
    "\n",
    "#Create dataframe of snRNA\n",
    "snRNA_df = CRPS_df[CRPS_df['miRNA'].str.contains('RNU44|RNU48|MammU6', regex=True)]\n",
    "\n",
    "#Create dataframe of only miRNAs\n",
    "Non_snRNA_df = CRPS_df[~CRPS_df['miRNA'].str.contains('RNU44|RNU48|MammU6', regex=True)]\n",
    "\n",
    "#CT0 defined as mean of expression values as mean of miRNAs expression\n",
    "CT0 = snRNA_df.mean()\n",
    "\n",
    "#Create dataframe for delCT values\n",
    "delCT = pd.DataFrame()\n",
    "\n",
    "#For each row in column find delta CT as difference between expression in the columns CT0 value\n",
    "for col in CRPS_df.columns:\n",
    "    if (col != 'miRNA'):\n",
    "        difference = Non_snRNA_df[col] - CT0[col]\n",
    "        delCT[col] = difference\n",
    "    #Set miRNA column in delCT\n",
    "    else:\n",
    "        delCT[col] = Non_snRNA_df[col]\n",
    "\n",
    "#Find number of control groups\n",
    "columnHeader = list(delCT.columns)\n",
    "numControl = sum(1 for s in columnHeader if 'control' in s)\n",
    "\n",
    "#Split delCT by control and patient groups\n",
    "control = delCT.iloc[: , 1:numControl + 1]\n",
    "\n",
    "patient = delCT.iloc[: , numControl + 2:]\n",
    "\n",
    "\n",
    "#Mean of expression for miRNAs in control and patient groups\n",
    "controlMean = control.mean(axis=1)\n",
    "\n",
    "patientMean = patient.mean(axis=1)\n",
    "\n",
    "#Empty data frame for deltadeltaCT values\n",
    "deldelCT = pd.DataFrame()\n",
    "\n",
    "#deltadeltaCT values is the difference between mean of patient and control expressions for given miRNA\n",
    "deldelCT['deltadeltaCT'] = patientMean - controlMean\n",
    "\n",
    "#Dataframe for storing fold change values\n",
    "Fold_Change = pd.DataFrame()\n",
    "\n",
    "#Seting miRNA names to fold change dataframe\n",
    "Fold_Change['miRNA'] = Non_snRNA_df['miRNA']\n",
    "\n",
    "#Calculate fold change as 2 to the power of the deltadeltaCT value\n",
    "Fold_Change['Fold Change'] = 2 ** deldelCT['deltadeltaCT']\n",
    "\n",
    "#Take negative inverse of fold changes less than one to represent as negative fold change\n",
    "Fold_Change.loc[(Fold_Change['Fold Change'] < 1), 'Fold Change'] = -1 / Fold_Change['Fold Change'].loc[(Fold_Change['Fold Change'] < 1)]\n",
    "\n",
    "#Sort fold changes by largest fold change\n",
    "sorted_Fold_Change = Fold_Change.sort_values(by=['Fold Change'], ascending=False, key=abs)\n",
    "\n",
    "#Report top 10 highest fold changes\n",
    "print(sorted_Fold_Change[0:10])"
   ]
  },
  {
   "cell_type": "markdown",
   "id": "17e22786",
   "metadata": {},
   "source": [
    "# Print the names and p-values of the top-10 most significantly different miRNAs (ordered by pvalue)"
   ]
  },
  {
   "cell_type": "code",
   "execution_count": 293,
   "id": "677427a7",
   "metadata": {},
   "outputs": [
    {
     "name": "stdout",
     "output_type": "stream",
     "text": [
      "              miRNA       p value\n",
      "275      hsa-let-7c  6.146378e-07\n",
      "161      hsa-let-7b  7.312196e-07\n",
      "402     hsa-miR-25#  7.502221e-07\n",
      "34      hsa-miR-320  9.567768e-07\n",
      "554    hsa-miR-320B  1.727411e-06\n",
      "502     hsa-miR-939  2.178983e-06\n",
      "52      hsa-miR-629  5.032957e-06\n",
      "96       hsa-let-7d  1.518123e-05\n",
      "60      hsa-miR-132  2.012160e-05\n",
      "239  hsa-miR-532-3p  2.550882e-05\n"
     ]
    }
   ],
   "source": [
    "#Dataframe to store p_vale\n",
    "p_value = pd.DataFrame()\n",
    "\n",
    "#Add miRNA names to dataframe\n",
    "p_value['miRNA'] = Non_snRNA_df['miRNA']\n",
    "\n",
    "#Total number of miRNAs\n",
    "numRNA = delCT.shape[0]\n",
    "\n",
    "#Store p-values\n",
    "p_stor = []\n",
    "\n",
    "#For each miRNA perform t-test comparing control and patient groups\n",
    "for i in range(numRNA):\n",
    "    \n",
    "    #perform t-test\n",
    "    pval = stats.ttest_ind(list(control.iloc[i, :]), list(patient.iloc[i, :]))\n",
    "    \n",
    "    #Calculate false discovery rate corrected p-value\n",
    "    fdr_pval_result = multitest.fdrcorrection(pval.pvalue)\n",
    "    fdr_pvals = fdr_pval_result[1][0]\n",
    "    \n",
    "    #Add p-value to list\n",
    "    p_stor.append(fdr_pvals)\n",
    "    \n",
    "#Update dataframe to contain p values\n",
    "p_value['p value'] = p_stor\n",
    "\n",
    "#Sort dataframe by smallest p-value    \n",
    "sorted_p_value = p_value.sort_values(by=['p value'])\n",
    "\n",
    "#Report top 10 most signficant p values\n",
    "print(sorted_p_value[0:10])"
   ]
  },
  {
   "cell_type": "markdown",
   "id": "5c5ecc75",
   "metadata": {},
   "source": [
    "# Define p value and fold change thresholds to be used for selecting significantly different miRNAs"
   ]
  },
  {
   "cell_type": "code",
   "execution_count": 300,
   "id": "ea872f65",
   "metadata": {},
   "outputs": [],
   "source": [
    "#Set p-value threshold as 0.01\n",
    "p_value_threshold = 0.01\n",
    "\n",
    "#Set fold change threshold to magnitude of 2.5\n",
    "fold_change_threshold = 2.5\n",
    "\n",
    "#Create dataframe for finding most different genes\n",
    "most_diff_RNA = pd.DataFrame()\n",
    "\n",
    "#Copy miRNA names\n",
    "most_diff_RNA['miRNA'] = Non_snRNA_df['miRNA']\n",
    "\n",
    "#Copy fold changes\n",
    "most_diff_RNA['Fold Change'] = Fold_Change['Fold Change']\n",
    "\n",
    "#Copy p-values\n",
    "most_diff_RNA['p value'] = p_value['p value']\n",
    "\n",
    "#Filter miRNAs with a fold change greator than threshold\n",
    "most_diff_RNA = most_diff_RNA.loc[np.absolute(most_diff_RNA['Fold Change']) > fold_change_threshold ]\n",
    "\n",
    "#Filter miRNAs with a pvalue less than threshold\n",
    "most_diff_RNA = most_diff_RNA.loc[most_diff_RNA['p value'] < p_value_threshold]\n",
    "\n",
    "#Store miRNAs that fit critera\n",
    "sig_miR = list(most_diff_RNA['miRNA'])"
   ]
  },
  {
   "cell_type": "markdown",
   "id": "93645666",
   "metadata": {},
   "source": [
    "# Find Gene Targets from miRNAs"
   ]
  },
  {
   "cell_type": "code",
   "execution_count": 302,
   "id": "413c34b1",
   "metadata": {},
   "outputs": [
    {
     "name": "stdout",
     "output_type": "stream",
     "text": [
      "--- SQL: SELECT distinct(\"generefseqid\") FROM \"mir2target\" WHERE score>=0.980000 AND mirna IN (\"hsa-miR-133b\",\"hsa-miR-133b-3p\",\"hsa-miR-133b-5p\")\n",
      "\n",
      "--- SQL: SELECT distinct(\"generefseqid\") FROM \"mir2target\" WHERE score>=0.980000 AND mirna IN (\"hsa-miR-196b\",\"hsa-miR-196b-3p\",\"hsa-miR-196b-5p\")\n",
      "\n",
      "--- SQL: SELECT distinct(\"generefseqid\") FROM \"mir2target\" WHERE score>=0.980000 AND mirna IN (\"hsa-miR-18b\",\"hsa-miR-18b-3p\",\"hsa-miR-18b-5p\")\n",
      "\n",
      "--- SQL: SELECT distinct(\"generefseqid\") FROM \"mir2target\" WHERE score>=0.980000 AND mirna IN (\"hsa-miR-190\",\"hsa-miR-190-3p\",\"hsa-miR-190-5p\")\n",
      "\n",
      "--- SQL: SELECT distinct(\"generefseqid\") FROM \"mir2target\" WHERE score>=0.980000 AND mirna IN (\"hsa-miR-29b\",\"hsa-miR-29b-3p\",\"hsa-miR-29b-5p\")\n",
      "\n",
      "--- SQL: SELECT distinct(\"generefseqid\") FROM \"mir2target\" WHERE score>=0.980000 AND mirna IN (\"hsa-let-7a\",\"hsa-let-7a-3p\",\"hsa-let-7a-5p\")\n",
      "\n",
      "--- SQL: SELECT distinct(\"generefseqid\") FROM \"mir2target\" WHERE score>=0.980000 AND mirna IN (\"hsa-miR-20a\",\"hsa-miR-20a-3p\",\"hsa-miR-20a-5p\")\n",
      "\n",
      "--- SQL: SELECT distinct(\"generefseqid\") FROM \"mir2target\" WHERE score>=0.980000 AND mirna IN (\"hsa-miR-126\",\"hsa-miR-126-3p\",\"hsa-miR-126-5p\")\n",
      "\n",
      "--- SQL: SELECT distinct(\"generefseqid\") FROM \"mir2target\" WHERE score>=0.980000 AND mirna IN (\"hsa-let-7b\",\"hsa-let-7b-3p\",\"hsa-let-7b-5p\")\n",
      "\n",
      "--- SQL: SELECT distinct(\"generefseqid\") FROM \"mir2target\" WHERE score>=0.980000 AND mirna IN (\"hsa-miR-101\",\"hsa-miR-101-3p\",\"hsa-miR-101-5p\")\n",
      "\n",
      "--- SQL: SELECT distinct(\"generefseqid\") FROM \"mir2target\" WHERE score>=0.980000 AND mirna IN (\"hsa-let-7c\",\"hsa-let-7c-3p\",\"hsa-let-7c-5p\")\n",
      "\n",
      "--- SQL: SELECT distinct(\"generefseqid\") FROM \"mir2target\" WHERE score>=0.980000 AND mirna IN (\"hsa-miR-432\",\"hsa-miR-432-3p\",\"hsa-miR-432-5p\")\n",
      "\n",
      "--- SQL: SELECT distinct(\"generefseqid\") FROM \"mir2target\" WHERE score>=0.980000 AND mirna IN (\"hsa-miR-1208\",\"hsa-miR-1208-3p\",\"hsa-miR-1208-5p\")\n",
      "\n",
      "--- SQL: SELECT distinct(\"generefseqid\") FROM \"mir2target\" WHERE score>=0.980000 AND mirna IN (\"hsa-miR-25#\",\"hsa-miR-25#-3p\",\"hsa-miR-25#-5p\")\n",
      "\n",
      "--- SQL: SELECT distinct(\"generefseqid\") FROM \"mir2target\" WHERE score>=0.980000 AND mirna IN (\"hsa-miR-17#\",\"hsa-miR-17#-3p\",\"hsa-miR-17#-5p\")\n",
      "\n",
      "--- SQL: SELECT distinct(\"generefseqid\") FROM \"mir2target\" WHERE score>=0.980000 AND mirna IN (\"hsa-miR-16-1#\",\"hsa-miR-16-1#-3p\",\"hsa-miR-16-1#-5p\")\n",
      "\n",
      "--- SQL: SELECT distinct(\"generefseqid\") FROM \"mir2target\" WHERE score>=0.980000 AND mirna IN (\"hsa-miR-144#\",\"hsa-miR-144#-3p\",\"hsa-miR-144#-5p\")\n",
      "\n",
      "--- SQL: SELECT distinct(\"generefseqid\") FROM \"mir2target\" WHERE score>=0.980000 AND mirna IN (\"hsa-miR-939\",\"hsa-miR-939-3p\",\"hsa-miR-939-5p\")\n",
      "\n",
      "--- SQL: SELECT distinct(\"generefseqid\") FROM \"mir2target\" WHERE score>=0.980000 AND mirna IN (\"hsa-miR-564\",\"hsa-miR-564-3p\",\"hsa-miR-564-5p\")\n",
      "\n"
     ]
    }
   ],
   "source": [
    "#Store enriched genes\n",
    "enrichedGenes = []\n",
    "\n",
    "#For each miRNA in list find target through bmes_targetscandb_mirtarget\n",
    "#Limit set to 0.98\n",
    "for miR in sig_miR:\n",
    "    target = bmes_targetscandb_mir2target(miR,0.98)\n",
    "    enrichedGenes.extend(target)\n",
    "\n",
    "#Dataframe for exporting gene list\n",
    "enrichedGenes_df = pd.DataFrame()\n",
    "\n",
    "#Add enriched genes to dataframe\n",
    "enrichedGenes_df['Gene Target'] = enrichedGenes\n",
    "\n",
    "#Export dataframe to excel\n",
    "enrichedGenes_df.to_excel(\"Gene Targets.xlsx\" , index=False) "
   ]
  },
  {
   "cell_type": "markdown",
   "id": "8b2ded10",
   "metadata": {},
   "source": [
    "# Top 3 most significantly enriched pathways"
   ]
  },
  {
   "attachments": {
    "Top_3_most_significantly_enriched_pathways.PNG": {
     "image/png": "[encoded data removed]"
    }
   },
   "cell_type": "markdown",
   "id": "8c87edd6",
   "metadata": {},
   "source": [
    "![Top_3_most_significantly_enriched_pathways.PNG](attachment:Top_3_most_significantly_enriched_pathways.PNG)"
   ]
  },
  {
   "cell_type": "markdown",
   "id": "fbe5febd",
   "metadata": {},
   "source": [
    "# Top 3 most significantly enriched Gene Ontology terms"
   ]
  },
  {
   "attachments": {
    "Top_3_most_significantly_enriched_Gene_Ontology_terms.PNG": {
     "image/png": "[encoded data removed]"
    }
   },
   "cell_type": "markdown",
   "id": "1b4cb303",
   "metadata": {},
   "source": [
    "![Top_3_most_significantly_enriched_Gene_Ontology_terms.PNG](attachment:Top_3_most_significantly_enriched_Gene_Ontology_terms.PNG)"
   ]
  },
  {
   "cell_type": "code",
   "execution_count": null,
   "id": "037452c6",
   "metadata": {},
   "outputs": [],
   "source": []
  }
 ],
 "metadata": {
  "kernelspec": {
   "display_name": "Python 3",
   "language": "python",
   "name": "python3"
  },
  "language_info": {
   "codemirror_mode": {
    "name": "ipython",
    "version": 3
   },
   "file_extension": ".py",
   "mimetype": "text/x-python",
   "name": "python",
   "nbconvert_exporter": "python",
   "pygments_lexer": "ipython3",
   "version": "3.8.8"
  }
 },
 "nbformat": 4,
 "nbformat_minor": 5
}
